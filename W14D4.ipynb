{
 "cells": [
  {
   "cell_type": "markdown",
   "id": "193e425b-bbc0-409f-8db9-2ae222d7db97",
   "metadata": {},
   "source": [
    "ESERCIZIO 1\n",
    "\n",
    "Abbiamo la stringa: nome_scuola = \"Epicode\" \n",
    "\n",
    "Stampare ogni carattere della stringa, uno su ogni riga, utilizzando un costrutto for."
   ]
  },
  {
   "cell_type": "code",
   "execution_count": 1,
   "id": "de8a1045-2532-408c-9b8b-c3ad72273338",
   "metadata": {
    "tags": []
   },
   "outputs": [
    {
     "name": "stdout",
     "output_type": "stream",
     "text": [
      "E\n",
      "p\n",
      "i\n",
      "c\n",
      "o\n",
      "d\n",
      "e\n"
     ]
    }
   ],
   "source": [
    "nome_scuola = \"Epicode\"\n",
    "\n",
    "for lettera in nome_scuola:\n",
    "    print(lettera)"
   ]
  },
  {
   "cell_type": "markdown",
   "id": "18f02c0f-9746-4424-9a50-5cffd065946e",
   "metadata": {},
   "source": [
    "ESERCIZIO 2\n",
    "\n",
    "Calcolare e stampare tutte le prime 10 potenze di 2 utilizzando un ciclo for. \n",
    "\n",
    "Utilizzeremo: \n",
    "\n",
    "• la funzione range(), \n",
    "\n",
    "e.g.: for contatore in range(10): pass  # modificare qui"
   ]
  },
  {
   "cell_type": "code",
   "execution_count": 3,
   "id": "bae1dc58-e3dc-4d5e-816e-0630030485ba",
   "metadata": {
    "tags": []
   },
   "outputs": [
    {
     "name": "stdout",
     "output_type": "stream",
     "text": [
      "1\n",
      "2\n",
      "4\n",
      "8\n",
      "16\n",
      "32\n",
      "64\n",
      "128\n",
      "256\n",
      "512\n"
     ]
    }
   ],
   "source": [
    "for contatore in range(10):\n",
    "    print(2**contatore)"
   ]
  },
  {
   "cell_type": "markdown",
   "id": "8ccf89f8-eb64-4f40-9c0a-99f9be0758ce",
   "metadata": {},
   "source": [
    "ESERCIZIO 3:\n",
    "\n",
    "Calcolare (ma non stampare) le prime N potenze di K; \n",
    "ognuna di esse andrà memorizzata in coda a una lista. \n",
    "Alla fine, stampare la lista risultante. \n",
    "\n",
    "Proviamo con diversi valori di K, oppure facciamola inserire all'utente. \n",
    "\n",
    "Realizzare due versioni:\n",
    "\n",
    "• con un ciclo while, \n",
    "• con un ciclo for."
   ]
  },
  {
   "cell_type": "code",
   "execution_count": 13,
   "id": "b1535c96-5928-4e92-9870-e17f2232e918",
   "metadata": {
    "tags": []
   },
   "outputs": [
    {
     "name": "stdin",
     "output_type": "stream",
     "text": [
      "Scegli la base:  5\n",
      "Scegli il numero di potenze:  3\n"
     ]
    },
    {
     "name": "stdout",
     "output_type": "stream",
     "text": [
      "5 ^ 0 = 1\n",
      "5 ^ 1 = 5\n",
      "5 ^ 2 = 25\n",
      "La lista completa dei risultati è:  [1, 5, 25] "
     ]
    }
   ],
   "source": [
    "K = int(input(\"Scegli la base: \"))\n",
    "N = int(input(\"Scegli il numero di potenze: \"))\n",
    "\n",
    "lista_potenze = []\n",
    "\n",
    "# metodo con ciclo for\n",
    "for numero in range(0,N):\n",
    "    lista_potenze.append(K**numero)\n",
    "    print(K, \"^\", numero, \"=\", K**numero)\n",
    "    \n",
    "print(\"La lista completa dei risultati è: \", lista_potenze)\n"
   ]
  },
  {
   "cell_type": "code",
   "execution_count": 15,
   "id": "1d1e0fa4-0715-4336-a90c-d6e26a84aca3",
   "metadata": {
    "tags": []
   },
   "outputs": [
    {
     "name": "stdin",
     "output_type": "stream",
     "text": [
      "Scegli la base:  7\n",
      "Scegli il numero di potenze:  4\n"
     ]
    },
    {
     "name": "stdout",
     "output_type": "stream",
     "text": [
      "7 ^ 0 = 1\n",
      "7 ^ 1 = 7\n",
      "7 ^ 2 = 49\n",
      "7 ^ 3 = 343\n",
      "La lista completa dei risultati è:  [1, 7, 49, 343]\n"
     ]
    }
   ],
   "source": [
    "K2 = int(input(\"Scegli la base: \"))\n",
    "N2 = int(input(\"Scegli il numero di potenze: \"))\n",
    "\n",
    "lista_potenze2 = []\n",
    "\n",
    "# metodo con il ciclo while\n",
    "contatore = 0\n",
    "\n",
    "while contatore < N2:\n",
    "    lista_potenze2.append(K2**contatore)\n",
    "    print(K2, \"^\", contatore, \"=\", K2**contatore)\n",
    "    contatore +=1\n",
    "    \n",
    "print(\"La lista completa dei risultati è: \", lista_potenze2)"
   ]
  },
  {
   "cell_type": "markdown",
   "id": "1f56656b-234e-418e-9f10-3533033f85fa",
   "metadata": {},
   "source": [
    "ESERCIZIO 4\n",
    "\n",
    "Abbiamo una lista con i guadagni degli ultimi 12 mesi: \n",
    "\n",
    "guadagni = [100, 90, 70, 40, 50, 80, 90, 120, 80, 20, 50, 50] \n",
    "\n",
    "usando un costrutto for, calcolare la media dei guadagni e stamparla a video."
   ]
  },
  {
   "cell_type": "code",
   "execution_count": 21,
   "id": "1a413771-36b1-4015-8640-6b4b90541134",
   "metadata": {
    "tags": []
   },
   "outputs": [
    {
     "name": "stdout",
     "output_type": "stream",
     "text": [
      "La media dei guadagni è:  70.0\n"
     ]
    }
   ],
   "source": [
    "guadagni = [100, 90, 70, 40, 50, 80, 90, 120, 80, 20, 50, 50]\n",
    "totale_guadagni = 0\n",
    "\n",
    "for guadagno in guadagni:\n",
    "    totale_guadagni += guadagno\n",
    "    \n",
    "media_guadagni = totale_guadagni / len(guadagni)\n",
    "print(\"La media dei guadagni è: \", media_guadagni)"
   ]
  },
  {
   "cell_type": "markdown",
   "id": "3e7d86b8-5dbd-40b6-b2d4-7d1d5c88b9e2",
   "metadata": {},
   "source": [
    "ESERCIZIO 5\n",
    "\n",
    "Abbiamo una lista di parole: \n",
    "\n",
    "parole = [\"Albergo\", \"Sedia\", \"Borgo\", \"Petalo\", \"Eremo\", \"Belvedere\", \"Semestre\", \"Esteta\", \"Sosta\", \"Orpello\", \"Abete\", \"Orologio\", \"Cesta\", \"Ermellino\"] \n",
    "\n",
    "stampiamo, per ogni parola, quante volte appare la lettera \"e\"; facciamo attenzione al fatto che appare sia maiuscola che minuscola."
   ]
  },
  {
   "cell_type": "code",
   "execution_count": 31,
   "id": "08005e7f-9ff4-41cb-a22f-8b8d6b7ef349",
   "metadata": {
    "tags": []
   },
   "outputs": [
    {
     "name": "stdout",
     "output_type": "stream",
     "text": [
      "Nella parola Albergo ci sono 1 lettere e\n",
      "Nella parola Sedia ci sono 1 lettere e\n",
      "Nella parola Petalo ci sono 1 lettere e\n",
      "Nella parola Eremo ci sono 2 lettere e\n",
      "Nella parola Belvedere ci sono 4 lettere e\n",
      "Nella parola Semestre ci sono 3 lettere e\n",
      "Nella parola Esteta ci sono 2 lettere e\n",
      "Nella parola Orpello ci sono 1 lettere e\n",
      "Nella parola Abete ci sono 2 lettere e\n",
      "Nella parola Cesta ci sono 1 lettere e\n",
      "Nella parola Ermellino ci sono 2 lettere e\n"
     ]
    }
   ],
   "source": [
    "parole = [\"Albergo\", \"Sedia\", \"Borgo\", \"Petalo\", \"Eremo\", \"Belvedere\", \"Semestre\", \"Esteta\", \n",
    "          \"Sosta\", \"Orpello\", \"Abete\", \"Orologio\", \"Cesta\", \"Ermellino\"]\n",
    "\n",
    "for parola in parole:\n",
    "    if \"e\" in parola or \"E\" in parola:\n",
    "        conteggio = parola.count(\"e\") + parola.count(\"E\")\n",
    "        print(\"Nella parola\", parola, \"ci sono\", conteggio, \"lettere e\")"
   ]
  },
  {
   "cell_type": "markdown",
   "id": "a1ca1a05-1f13-45f2-bc18-4e95a99071bb",
   "metadata": {},
   "source": [
    "ESERCIZIO 6\n",
    "\n",
    "Abbiamo una lista di codici fiscali: \n",
    "\n",
    "lista_cf = [\"ABCDEF95G01A123B\", \"GHIJKL91M02A321C\", \"MNOPQR89S03A456D\", \"STUVWX95Z04A654E\", \"XYZABC01D05A789F\", \"DEFGHI95J06A987G\"] \n",
    "\n",
    "trovare i codici fiscali che contengono \"95\", metterli in una lista, e alla fine stamparla; \n",
    "inoltre, per ognuno di essi, stampare a video i caratteri relativi al nome e quelli relativi al cognome"
   ]
  },
  {
   "cell_type": "code",
   "execution_count": 29,
   "id": "bd781871-520a-4671-844e-86849008712b",
   "metadata": {
    "tags": []
   },
   "outputs": [
    {
     "name": "stdout",
     "output_type": "stream",
     "text": [
      "['ABCDEF95G01A123B', 'STUVWX95Z04A654E', 'DEFGHI95J06A987G']\n",
      "Cognome:  ABC Nome:  DEF\n",
      "Cognome:  STU Nome:  VWX\n",
      "Cognome:  DEF Nome:  GHI\n"
     ]
    }
   ],
   "source": [
    "lista_cf = [\"ABCDEF95G01A123B\", \"GHIJKL91M02A321C\", \n",
    "            \"MNOPQR89S03A456D\", \"STUVWX95Z04A654E\", \"XYZABC01D05A789F\", \"DEFGHI95J06A987G\"]\n",
    "lista_cf_95 = []\n",
    "\n",
    "for cf in lista_cf:\n",
    "    if \"95\" in cf:\n",
    "        lista_cf_95.append(cf)\n",
    "print(lista_cf_95)\n",
    "\n",
    "for cf in lista_cf_95:\n",
    "    print(\"Cognome: \",cf[0:3],\"Nome: \",cf[3:6])"
   ]
  },
  {
   "cell_type": "markdown",
   "id": "65dcd43e-33f5-4c4e-b6d9-abe9ea057448",
   "metadata": {},
   "source": [
    "ESERCIZIO 7\n",
    "\n",
    "Abbiamo tre liste della stessa lunghezza, dove ogni elemento nella medesima posizione si riferisce ai dati dello stesso studente: \n",
    "\n",
    "studenti = [\"Alex\", \"Bob\", \"Cindy\", \"Dan\", \"Emma\", \"Faith\", \"Grace\", \"Henry\"] \n",
    "\n",
    "corsi = [\"Cybersecurity\", \"Data Analyst\", \"Backend\", \"Frontend\", \"Data Analyst\", \"Backend\", \"Frontend\", \"Cybersecurity\"]\n",
    "\n",
    "edizioni = [1, 2, 3, 2, 2, 1, 3, 3] \n",
    "\n",
    "Stampare a video tutti e soli gli studenti che frequentano una prima edizione; non tutti i dati potrebbero essere necessari."
   ]
  },
  {
   "cell_type": "code",
   "execution_count": 34,
   "id": "e4558fc7-92f9-4570-b0f6-e8474a2fbe0c",
   "metadata": {
    "tags": []
   },
   "outputs": [
    {
     "name": "stdout",
     "output_type": "stream",
     "text": [
      "Lo studente Alex frequenta la prima edizione del corso di Cybersecurity\n",
      "Lo studente Faith frequenta la prima edizione del corso di Backend\n"
     ]
    }
   ],
   "source": [
    "studenti = [\"Alex\", \"Bob\", \"Cindy\", \"Dan\", \"Emma\", \"Faith\", \"Grace\", \"Henry\"]\n",
    "\n",
    "corsi = [\"Cybersecurity\", \"Data Analyst\", \"Backend\", \"Frontend\", \"Data Analyst\", \"Backend\", \"Frontend\", \"Cybersecurity\"]\n",
    "\n",
    "edizioni = [1, 2, 3, 2, 2, 1, 3, 3]\n",
    "\n",
    "for studente, corso, edizione in zip(studenti,corsi,edizioni):\n",
    "    if edizione == 1:\n",
    "        print(\"Lo studente\",studente,\"frequenta la prima edizione del corso di\",corso)"
   ]
  },
  {
   "cell_type": "markdown",
   "id": "8cb7eb56-cf91-40b1-9503-139b7a86ab94",
   "metadata": {},
   "source": [
    "ESERCIZIO 8\n",
    "\n",
    "Abbiamo una lista di stringhe di prezzi in dollari, che erroneamente sono stati scritti con il simbolo dell'euro:\n",
    "\n",
    "prezzi = [\"100 €\", \"200 €\", \"500 €\", \"10 €\", \"50 €\", \"70 €\"]\n",
    "\n",
    "cambiare il simbolo dell'euro (€) in quello del dollaro ($) per ogni stringa nella lista; il risultato sarà memorizzato in un'altra lista."
   ]
  },
  {
   "cell_type": "code",
   "execution_count": 45,
   "id": "e32b4679-3537-4f43-8ccb-4fdb9ea921d6",
   "metadata": {
    "tags": []
   },
   "outputs": [
    {
     "name": "stdout",
     "output_type": "stream",
     "text": [
      "['100 $', '200 $', '500 $', '10 $', '50 $', '70 $']\n"
     ]
    }
   ],
   "source": [
    "prezzi = [\"100 €\", \"200 €\", \"500 €\", \"10 €\", \"50 €\", \"70 €\"]\n",
    "prezzi_dollaro = []\n",
    "\n",
    "for numero in prezzi:\n",
    "    numero_dollaro = numero[:-2] + \" $\" \n",
    "    prezzi_dollaro.append(numero_dollaro)\n",
    "  \n",
    "print(prezzi_dollaro)"
   ]
  },
  {
   "cell_type": "markdown",
   "id": "86e1f11c-ae25-481f-97f3-acb2a5d58445",
   "metadata": {},
   "source": [
    "ESERCIZIO 9:\n",
    "\n",
    "Abbiamo una lista di studenti: \n",
    "\n",
    "studenti = [\"Alex\", \"Bob\", \"Cindy\", \"Dan\", \"Emma\", \"Faith\", \"Grace\", \"Henry\", \"Isabelle\", \"John\"] \n",
    "\n",
    "vogliamo dividere gli studenti in due squadre per un campionato di Uno nel seguente modo: \n",
    "\n",
    "selezioneremo i nomi in posizione pari per un squadra, e i nomi in posizione dispari per l'altra. \n",
    "\n",
    "Creiamo due liste per ogni squadra, e alla fine visualizziamole."
   ]
  },
  {
   "cell_type": "code",
   "execution_count": 50,
   "id": "4b5341f0-7a05-48e9-b04c-f1540b93bb96",
   "metadata": {
    "tags": []
   },
   "outputs": [
    {
     "name": "stdout",
     "output_type": "stream",
     "text": [
      "La squadra A è composta da:  ['Alex', 'Cindy', 'Emma', 'Grace', 'Isabelle']\n",
      "La squadra B è composta da:  ['Bob', 'Dan', 'Faith', 'Henry', 'John']\n"
     ]
    }
   ],
   "source": [
    "studenti = [\"Alex\", \"Bob\", \"Cindy\", \"Dan\", \"Emma\", \"Faith\", \"Grace\", \"Henry\", \"Isabelle\", \"John\"]\n",
    "\n",
    "squadra_a = []\n",
    "squadra_b = []\n",
    "\n",
    "for studente in studenti:\n",
    "    if studente in studenti[::2]:\n",
    "        squadra_a.append(studente)\n",
    "    else:\n",
    "        squadra_b.append(studente)\n",
    "        \n",
    "print(\"La squadra A è composta da: \",squadra_a)\n",
    "print(\"La squadra B è composta da: \",squadra_b)"
   ]
  },
  {
   "cell_type": "markdown",
   "id": "87e5cd2f-8250-44b1-a981-d5a2b00709b5",
   "metadata": {},
   "source": [
    "ESERCIZIO 10\n",
    "\n",
    "Abbiamo una lista con i guadagni degli ultimi 12 mesi (supponiamo da Gennaio a Dicembre):\n",
    "\n",
    "guadagni = [100, 90, 70, 40, 50, 80, 90, 120, 80, 20, 50, 50]\n",
    "\n",
    "dobbiamo confrontare, stampando tutto a video, il guadagno di ogni mese con la media dei guadagni precedenti, e specificare nell'output se il guadagno attuale è maggiore o minore della media dei precedenti.\n",
    "\n",
    "Esempio di un possibile output: \n",
    "\n",
    "Mese 1: 100 € \n",
    "\n",
    "Mese 2: 90 € (media prec: 100 € - il guadagno attuale è minore) \n",
    "\n",
    "Mese 3: 70 € (media prec: 95 € - il guadagno attuale è minore)"
   ]
  },
  {
   "cell_type": "code",
   "execution_count": 11,
   "id": "4cb4f3d5-708a-46c5-b963-744c38f493b9",
   "metadata": {
    "tags": []
   },
   "outputs": [
    {
     "name": "stdout",
     "output_type": "stream",
     "text": [
      "Mese  1 : 100 €\n",
      "Mese  2 : 90 €(media prec: 95.0 € - il guadagno attuale è minore)\n",
      "Mese  3 : 70 €(media prec: 86.67 € - il guadagno attuale è minore)\n",
      "Mese  4 : 40 €(media prec: 75.0 € - il guadagno attuale è minore)\n",
      "Mese  5 : 50 €(media prec: 70.0 € - il guadagno attuale è minore)\n",
      "Mese  6 : 80 €(media prec: 71.67 € - il guadagno attuale è maggiore)\n",
      "Mese  7 : 90 €(media prec: 74.29 € - il guadagno attuale è maggiore)\n",
      "Mese  8 : 120 €(media prec: 80.0 € - il guadagno attuale è maggiore)\n",
      "Mese  9 : 80 €(media prec: 80.0 € - il guadagno attuale è maggiore)\n",
      "Mese  10 : 20 €(media prec: 74.0 € - il guadagno attuale è minore)\n",
      "Mese  11 : 50 €(media prec: 71.82 € - il guadagno attuale è minore)\n",
      "Mese  12 : 50 €(media prec: 70.0 € - il guadagno attuale è minore)\n"
     ]
    }
   ],
   "source": [
    "guadagni = [100, 90, 70, 40, 50, 80, 90, 120, 80, 20, 50, 50]\n",
    "numero_mese = []\n",
    "media_guadagni = []\n",
    "contatore = 0\n",
    "\n",
    "for posizione, guadagno in enumerate(guadagni):\n",
    "    numero_mese.append(posizione+1)\n",
    "\n",
    "while contatore<len(guadagni):\n",
    "    if guadagni[contatore] == guadagni[0]:\n",
    "        media_guadagni.append(guadagni[contatore])\n",
    "    else: \n",
    "        media_mese_prec = sum(guadagni[:contatore + 1]) / (contatore + 1)\n",
    "        media_guadagni.append(media_mese_prec)\n",
    "    contatore += 1\n",
    "\n",
    "for guadagno, media, posizione in zip(guadagni,media_guadagni,numero_mese):\n",
    "    if guadagno == guadagni[0]:\n",
    "        print(\"Mese \",posizione,\":\",guadagno,\"€\")\n",
    "    elif guadagno < media:\n",
    "        print(\"Mese \",posizione,\":\",guadagno,\"€(media prec:\",round(media,2),\"€ - il guadagno attuale è minore)\")\n",
    "    else:\n",
    "        print(\"Mese \",posizione,\":\",guadagno,\"€(media prec:\",round(media,2),\"€ - il guadagno attuale è maggiore)\")"
   ]
  },
  {
   "cell_type": "code",
   "execution_count": null,
   "id": "2c676af9-3a89-460a-a20b-d431c29b6f40",
   "metadata": {},
   "outputs": [],
   "source": []
  }
 ],
 "metadata": {
  "kernelspec": {
   "display_name": "Python 3 (ipykernel)",
   "language": "python",
   "name": "python3"
  },
  "language_info": {
   "codemirror_mode": {
    "name": "ipython",
    "version": 3
   },
   "file_extension": ".py",
   "mimetype": "text/x-python",
   "name": "python",
   "nbconvert_exporter": "python",
   "pygments_lexer": "ipython3",
   "version": "3.11.5"
  }
 },
 "nbformat": 4,
 "nbformat_minor": 5
}
