{
 "cells": [
  {
   "cell_type": "markdown",
   "id": "942a0b1c-6436-41ce-9a4f-b008360fd2bb",
   "metadata": {},
   "source": [
    "# PYTHON W14D3 - PRATICA"
   ]
  },
  {
   "cell_type": "markdown",
   "id": "a52c392b-95af-4f7c-b524-5cc1a05c8602",
   "metadata": {},
   "source": [
    "## Es. 1"
   ]
  },
  {
   "cell_type": "markdown",
   "id": "85115914-d520-434c-ac73-5a8eda0b346e",
   "metadata": {},
   "source": [
    "Stampare i primi N numeri della sequenza di Fibonacci, dove N è inserito dall'utente."
   ]
  },
  {
   "cell_type": "code",
   "execution_count": 11,
   "id": "1e1e57f0-0f4a-4506-8329-d47681419857",
   "metadata": {
    "tags": []
   },
   "outputs": [],
   "source": []
  },
  {
   "cell_type": "markdown",
   "id": "429b4c22-4af4-44cb-a3a4-78f56ac2514c",
   "metadata": {},
   "source": [
    "## Es. 2"
   ]
  },
  {
   "cell_type": "markdown",
   "id": "78571cae-4add-4903-86c9-26851c661af5",
   "metadata": {},
   "source": [
    "Stampare i numeri da 1 a 100. Ma per i multipli di 3 stampa \"Fizz\" al posto del numero e per i multipli di 5 stampa \"Buzz\". Per i numeri che sono sia multipli di 3 che di 5, stampa \"FizzBuzz\"."
   ]
  },
  {
   "cell_type": "code",
   "execution_count": null,
   "id": "f9a1bed1-2517-4fa0-b655-5136539b9cf5",
   "metadata": {},
   "outputs": [],
   "source": []
  },
  {
   "cell_type": "markdown",
   "id": "72d2f44d-dd05-4745-b5c7-b06d66a0fc87",
   "metadata": {},
   "source": [
    "## Es. 3"
   ]
  },
  {
   "cell_type": "markdown",
   "id": "aae60d8a-ec24-45e7-880e-3cbc155c12b1",
   "metadata": {},
   "source": [
    "Date due liste di numeri, restituire una nuova lista contenente la somma degli elementi corrispondenti nelle due liste."
   ]
  },
  {
   "cell_type": "code",
   "execution_count": 1,
   "id": "e154cff3-f826-4dec-b425-b0133ee28a20",
   "metadata": {
    "tags": []
   },
   "outputs": [],
   "source": [
    "lista_a = [1, 2, 3, 4, 5, 6, 7, 8, 9, 10]\n",
    "lista_b = [101, 102, 103, 104, 105, 106, 107, 108, 109, 110]"
   ]
  },
  {
   "cell_type": "markdown",
   "id": "988dc90d-77a3-4ec6-8594-8c1de0d13773",
   "metadata": {},
   "source": [
    "## Es. 4"
   ]
  },
  {
   "cell_type": "markdown",
   "id": "9ddefe4f-bf75-42d2-92cb-e2a0620e09b7",
   "metadata": {},
   "source": [
    "Data una stringa inserita dall'utente, restituire una nuova stringa con le vocali raddoppiate."
   ]
  },
  {
   "cell_type": "code",
   "execution_count": null,
   "id": "419e6e04-5b00-41e3-997f-4ce8d18735a6",
   "metadata": {
    "tags": []
   },
   "outputs": [],
   "source": []
  },
  {
   "cell_type": "markdown",
   "id": "4ead13ad-ac69-4057-b122-7077450f8657",
   "metadata": {},
   "source": [
    "## Es. 5"
   ]
  },
  {
   "cell_type": "markdown",
   "id": "58d97a56-839c-489f-92f0-bc63650a5f8b",
   "metadata": {},
   "source": [
    "Fatemi giocare a sasso-carta-forbice contro il computer. Trovate un modo."
   ]
  },
  {
   "cell_type": "code",
   "execution_count": null,
   "id": "789ed4c3-4529-482d-8c87-c88bc11c70ef",
   "metadata": {
    "tags": []
   },
   "outputs": [],
   "source": []
  }
 ],
 "metadata": {
  "kernelspec": {
   "display_name": "Python 3 (ipykernel)",
   "language": "python",
   "name": "python3"
  },
  "language_info": {
   "codemirror_mode": {
    "name": "ipython",
    "version": 3
   },
   "file_extension": ".py",
   "mimetype": "text/x-python",
   "name": "python",
   "nbconvert_exporter": "python",
   "pygments_lexer": "ipython3",
   "version": "3.11.5"
  }
 },
 "nbformat": 4,
 "nbformat_minor": 5
}
