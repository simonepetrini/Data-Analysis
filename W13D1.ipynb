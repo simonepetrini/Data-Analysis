{
 "cells": [
  {
   "cell_type": "markdown",
   "id": "1f505971",
   "metadata": {},
   "source": [
    "Esercizio: \n",
    "Individuiamo tre task di qualsiasi tipo (fare la spesa, studiare un concetto, riempire il serbatoio dell'auto, acquistare uno snack da un distributore automatico, o qualunque altra cosa);\n",
    "Scriviamo un algoritmo (in forma testuale), cioè i passi necessari, per ognuno dei task selezionati."
   ]
  },
  {
   "cell_type": "markdown",
   "id": "01561696",
   "metadata": {},
   "source": [
    "Preparare la pasta alla Carbonara:\n",
    "\n",
    "1. Reperire gli ingredienti (Mezzemaniche, Guanciale, Uovo, Pecorino grattugiato, Sale, Pepe)\n",
    "2. Tostare il pepe a fuoco moderato\n",
    "3. Lasciare raffreddare il pepe in un altro contenitore\n",
    "4. Tagliare il guanciale a listarelle\n",
    "5. Cuocere il guanciale nella stessa padella in cui si è tostato il pepe\n",
    "6. Mettere da parte metà del grasso rilasciato in cottura dal guanciale\n",
    "7. Dividere i tuorli dagli albumi d'uovo\n",
    "8. Mescolare in un contenitore i tuorli, metà del pecorino, metà del grasso di guanciale e il pepe\n",
    "9. Aggiungere il sale al mix\n",
    "10. Portare ad ebollizione l'acqua per la pasta\n",
    "11. Attendere\n",
    "    1. Se l'acqua bolle, versare le mezzemaniche, altrimenti torna al punto 11\n",
    "12. Attendere i tempi di cottura della pasta\n",
    "13. Assaggiare la pasta\n",
    "    1. Se è cotta, scolare, altrimenti torna al punto 12\n",
    "14. Scolare la pasta, tenendo da parte un pò di acqua di cottura\n",
    "15. Versare la pasta nel condimento\n",
    "16. Unire parte dell'acqua di cottura\n",
    "    1. Se l'acqua è sufficiente, mescolare il tutto, altrimenti ripeti il punto 16\n",
    "17. Unire il guanciale, il resto del pecorino e del grasso di guanciale\n",
    "18. Servire\n",
    "\n"
   ]
  },
  {
   "cell_type": "markdown",
   "id": "3e8bf8ad",
   "metadata": {},
   "source": [
    "Esercizio Abbiamo 25 studenti; memorizzare questo dato in una variabile."
   ]
  },
  {
   "cell_type": "code",
   "execution_count": 6,
   "id": "c7118ef9",
   "metadata": {},
   "outputs": [],
   "source": [
    "studenti = 25"
   ]
  },
  {
   "cell_type": "markdown",
   "id": "04f449aa",
   "metadata": {},
   "source": [
    "Esercizio Abbiamo 25 studenti; memorizzare questo dato in una variabile e stamparla a video."
   ]
  },
  {
   "cell_type": "code",
   "execution_count": 7,
   "id": "d3228f4c",
   "metadata": {},
   "outputs": [
    {
     "name": "stdout",
     "output_type": "stream",
     "text": [
      "25\n"
     ]
    }
   ],
   "source": [
    "print(studenti)"
   ]
  },
  {
   "cell_type": "markdown",
   "id": "8986770d",
   "metadata": {},
   "source": [
    "Esercizio Abbiamo 25 studenti; memorizzare questo dato in una variabile. Arrivano altri 3 studenti; memorizzare questo dato in un'altra variabile."
   ]
  },
  {
   "cell_type": "code",
   "execution_count": 8,
   "id": "3a5dff48",
   "metadata": {},
   "outputs": [],
   "source": [
    "studenti = 25\n",
    "studenti_agg = 3"
   ]
  },
  {
   "cell_type": "markdown",
   "id": "8e3ca207",
   "metadata": {},
   "source": [
    "Abbiamo 25 studenti; memorizzare questo dato in una variabile. Arrivano altri 3 studenti; memorizzare questo dato in un'altra variabile. Creare un'altra variabile ancora che conterrà la somma delle prime due, poi stamparla a video."
   ]
  },
  {
   "cell_type": "code",
   "execution_count": 12,
   "id": "77816df0",
   "metadata": {},
   "outputs": [
    {
     "name": "stdout",
     "output_type": "stream",
     "text": [
      "28\n"
     ]
    }
   ],
   "source": [
    "studenti = 25\n",
    "studenti_agg = 3\n",
    "somma_studenti = studenti + studenti_agg\n",
    "print(somma_studenti)"
   ]
  },
  {
   "cell_type": "markdown",
   "id": "15ac909a",
   "metadata": {},
   "source": [
    "Creare una variabile che contiene la stringa \"Epicode\", quindi stamparla a video."
   ]
  },
  {
   "cell_type": "code",
   "execution_count": 13,
   "id": "cb2c678a",
   "metadata": {},
   "outputs": [
    {
     "name": "stdout",
     "output_type": "stream",
     "text": [
      "Epicode\n"
     ]
    }
   ],
   "source": [
    "corso = \"Epicode\"\n",
    "print(corso)"
   ]
  },
  {
   "cell_type": "code",
   "execution_count": null,
   "id": "b3ecf94e",
   "metadata": {},
   "outputs": [],
   "source": []
  }
 ],
 "metadata": {
  "kernelspec": {
   "display_name": "Python 3 (ipykernel)",
   "language": "python",
   "name": "python3"
  },
  "language_info": {
   "codemirror_mode": {
    "name": "ipython",
    "version": 3
   },
   "file_extension": ".py",
   "mimetype": "text/x-python",
   "name": "python",
   "nbconvert_exporter": "python",
   "pygments_lexer": "ipython3",
   "version": "3.11.5"
  }
 },
 "nbformat": 4,
 "nbformat_minor": 5
}
