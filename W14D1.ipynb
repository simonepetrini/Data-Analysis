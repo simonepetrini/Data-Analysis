{
 "cells": [
  {
   "cell_type": "markdown",
   "id": "942a0b1c-6436-41ce-9a4f-b008360fd2bb",
   "metadata": {},
   "source": [
    "# PYTHON W14D1 - PRATICA"
   ]
  },
  {
   "cell_type": "markdown",
   "id": "a52c392b-95af-4f7c-b524-5cc1a05c8602",
   "metadata": {},
   "source": [
    "## Es. 1"
   ]
  },
  {
   "cell_type": "markdown",
   "id": "85115914-d520-434c-ac73-5a8eda0b346e",
   "metadata": {},
   "source": [
    "Abbiamo la stringa: nome_scuola = \"Epicode\" Stampare ogni carattere della stringa, uno su ogni riga, utilizzando un costrutto while."
   ]
  },
  {
   "cell_type": "code",
   "execution_count": null,
   "id": "1e1e57f0-0f4a-4506-8329-d47681419857",
   "metadata": {},
   "outputs": [],
   "source": []
  },
  {
   "cell_type": "markdown",
   "id": "429b4c22-4af4-44cb-a3a4-78f56ac2514c",
   "metadata": {},
   "source": [
    "## Es. 2"
   ]
  },
  {
   "cell_type": "markdown",
   "id": "78571cae-4add-4903-86c9-26851c661af5",
   "metadata": {},
   "source": [
    "Stampare a video tutti i numeri da 0 a 20 utilizzando il costrutto while. Utilizzeremo: • un ciclo while • la funzione print() • una variabile, che dovrà essere inizializzata • una procedura di incremento"
   ]
  },
  {
   "cell_type": "code",
   "execution_count": null,
   "id": "ac219000-3838-4cc8-9df7-8e8d6b465feb",
   "metadata": {},
   "outputs": [],
   "source": []
  },
  {
   "cell_type": "markdown",
   "id": "72d2f44d-dd05-4745-b5c7-b06d66a0fc87",
   "metadata": {},
   "source": [
    "## Es. 3"
   ]
  },
  {
   "cell_type": "markdown",
   "id": "aae60d8a-ec24-45e7-880e-3cbc155c12b1",
   "metadata": {},
   "source": [
    "Calcolare e stampare tutte le prime 10 potenze di 2 (e.g., 2⁰, 2¹, 2², …) utilizzando un ciclo while."
   ]
  },
  {
   "cell_type": "code",
   "execution_count": null,
   "id": "e154cff3-f826-4dec-b425-b0133ee28a20",
   "metadata": {},
   "outputs": [],
   "source": []
  },
  {
   "cell_type": "markdown",
   "id": "988dc90d-77a3-4ec6-8594-8c1de0d13773",
   "metadata": {},
   "source": [
    "## Es. 4"
   ]
  },
  {
   "cell_type": "markdown",
   "id": "9ddefe4f-bf75-42d2-92cb-e2a0620e09b7",
   "metadata": {},
   "source": [
    "Calcolare e stampare tutte le prime N potenze di 2 utilizzando un ciclo while, domandando all'utente di inserire N."
   ]
  },
  {
   "cell_type": "code",
   "execution_count": null,
   "id": "419e6e04-5b00-41e3-997f-4ce8d18735a6",
   "metadata": {},
   "outputs": [],
   "source": []
  },
  {
   "cell_type": "markdown",
   "id": "4ead13ad-ac69-4057-b122-7077450f8657",
   "metadata": {},
   "source": [
    "## Es. 5"
   ]
  },
  {
   "cell_type": "markdown",
   "id": "58d97a56-839c-489f-92f0-bc63650a5f8b",
   "metadata": {},
   "source": [
    "Calcolare e stampare tutte le potenze di 2 minori di 25000."
   ]
  },
  {
   "cell_type": "code",
   "execution_count": null,
   "id": "daf7444d-7d4e-49ad-a0a6-cb38b6eb1808",
   "metadata": {},
   "outputs": [],
   "source": []
  },
  {
   "cell_type": "markdown",
   "id": "68074ea5-6936-4b15-a323-688ed1ee957e",
   "metadata": {},
   "source": [
    "## Es. 6"
   ]
  },
  {
   "cell_type": "markdown",
   "id": "943c7c22-fc84-4fc5-bc17-05277b3aa5b8",
   "metadata": {},
   "source": [
    "Abbiamo due liste, una di studenti e una di corsi: studenti = [\"Alex\", \"Bob\", \"Cindy\", \"Dan\", \"Emma\", \"Faith\", \"Grace\", \"Henry\"] corsi = [\"Cybersecurity\", \"Data Analyst\", \"Backend\", \"Frontend\", \"Data Analyst\", \"Backend\"]\n",
    "\n",
    "Aggiungere i dati mancanti alla lista corsi, sapendo che \n",
    "\n",
    "Emma segue Data Analyst \n",
    "\n",
    "Faith segue Backend \n",
    "\n",
    "Grace segue Frontend \n",
    "\n",
    "Henry segue Cybersecurity \n",
    "\n",
    "Aggiungeremo i dati mancanti uno alla volta con il metodo per appendere in coda alle liste, poi verificheremo che sono della stessa lunghezza e se lo sono stamperemo la lista corsi. Se alcuni dati sono già presenti non vanno aggiunti di nuovo."
   ]
  },
  {
   "cell_type": "code",
   "execution_count": null,
   "id": "5e69e0d9-97dd-44e8-b625-70ef99d364b0",
   "metadata": {},
   "outputs": [],
   "source": [
    "studenti = [\"Alex\", \"Bob\", \"Cindy\", \"Dan\", \"Emma\", \"Faith\", \"Grace\", \"Henry\"]\n",
    "corsi = [\"Cybersecurity\", \"Data Analyst\", \"Backend\", \"Frontend\", \"Data Analyst\", \"Backend\"]"
   ]
  },
  {
   "cell_type": "markdown",
   "id": "55403eed-73af-42e0-b060-8767d51fa57e",
   "metadata": {},
   "source": [
    "## Es. 7"
   ]
  },
  {
   "cell_type": "markdown",
   "id": "36e1d55a-b095-43fe-b55d-62856ff2efae",
   "metadata": {},
   "source": [
    "Scriviamo un programma che chiede in input all'utente una stringa e visualizza i primi 3 caratteri, seguiti da 3 punti di sospensione e quindi gli ultimi 3 caratteri, similmente all'esercizio della lezione scorsa. Stavolta facciamo attenzione a tutti i casi particolari, ovvero implementare soluzioni ad hoc per stringhe di lunghezza inferiore a 6 caratteri."
   ]
  },
  {
   "cell_type": "code",
   "execution_count": null,
   "id": "8684083e-a6ed-4b15-b844-54aef1f397ee",
   "metadata": {},
   "outputs": [],
   "source": []
  },
  {
   "cell_type": "markdown",
   "id": "1373c33d-1436-42b9-b3e1-2bdf6f12da46",
   "metadata": {},
   "source": [
    "## Es. 8"
   ]
  },
  {
   "cell_type": "markdown",
   "id": "d0cfa6a6-011b-46ef-8fb1-39dd5c8ec628",
   "metadata": {},
   "source": [
    "Memorizza e stampa tutti i fattori di un numero dato in input. Esempio: • input: 150 • output: [2, 3, 5, 5]"
   ]
  },
  {
   "cell_type": "code",
   "execution_count": null,
   "id": "5dd5e02b-6ba1-45c0-9a1e-58f6d40fff51",
   "metadata": {},
   "outputs": [],
   "source": []
  }
 ],
 "metadata": {
  "kernelspec": {
   "display_name": "Python 3 (ipykernel)",
   "language": "python",
   "name": "python3"
  },
  "language_info": {
   "codemirror_mode": {
    "name": "ipython",
    "version": 3
   },
   "file_extension": ".py",
   "mimetype": "text/x-python",
   "name": "python",
   "nbconvert_exporter": "python",
   "pygments_lexer": "ipython3",
   "version": "3.11.5"
  }
 },
 "nbformat": 4,
 "nbformat_minor": 5
}
