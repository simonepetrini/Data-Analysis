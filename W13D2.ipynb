{
 "cells": [
  {
   "cell_type": "markdown",
   "id": "2f22e6a6",
   "metadata": {},
   "source": [
    "Esercizio Creare, a mano, una lista che contenga i numeri da 0 a 5, memorizzarla in una variabile e infine stamparla a video."
   ]
  },
  {
   "cell_type": "markdown",
   "id": "d917e271",
   "metadata": {},
   "source": [
    "numeri = [0,1,2,3,4,5]\n",
    "print(numeri)"
   ]
  },
  {
   "cell_type": "markdown",
   "id": "5fd6eda7",
   "metadata": {},
   "source": [
    "Esercizio Crea, a mano, una lista che contenga tre titoli dei tuoi film preferiti, memorizzarla in una variabile e infine stampala a video."
   ]
  },
  {
   "cell_type": "code",
   "execution_count": 3,
   "id": "f32ac83f",
   "metadata": {},
   "outputs": [
    {
     "name": "stdout",
     "output_type": "stream",
     "text": [
      "['The Truman Show', 'Coco', 'Interstellar']\n"
     ]
    }
   ],
   "source": [
    "film = [\"The Truman Show\", \"Coco\", \"Interstellar\"]\n",
    "print(film)"
   ]
  },
  {
   "cell_type": "markdown",
   "id": "e656f85e",
   "metadata": {},
   "source": [
    "Esercizio Abbiamo la stringa: nome_scuola = \"Epicode\" Stampare l'iniziale."
   ]
  },
  {
   "cell_type": "code",
   "execution_count": 6,
   "id": "dc1e301a",
   "metadata": {},
   "outputs": [
    {
     "name": "stdout",
     "output_type": "stream",
     "text": [
      "E\n"
     ]
    }
   ],
   "source": [
    "nome_scuola = \"Epicode\"\n",
    "iniziale = nome_scuola[0]\n",
    "print(iniziale)"
   ]
  },
  {
   "cell_type": "markdown",
   "id": "ed8b55c9",
   "metadata": {},
   "source": [
    "Esercizio Abbiamo la stringa: nome_scuola = \"Epicode\" Stampare le prime tre lettere."
   ]
  },
  {
   "cell_type": "code",
   "execution_count": 8,
   "id": "27797cfe",
   "metadata": {},
   "outputs": [
    {
     "name": "stdout",
     "output_type": "stream",
     "text": [
      "Epi\n"
     ]
    }
   ],
   "source": [
    "nome_scuola = \"Epicode\"\n",
    "tre_lettere = nome_scuola[0:3]\n",
    "print(tre_lettere)"
   ]
  },
  {
   "cell_type": "markdown",
   "id": "42277527",
   "metadata": {},
   "source": [
    "Esercizio Abbiamo la variabile: x = 10 Incrementarla di 2 e poi moltiplicarla per 3 Usare due metodi diversi (ad esempio, uno utilizzando gli operatori di assegnazione, e uno senza)"
   ]
  },
  {
   "cell_type": "code",
   "execution_count": 9,
   "id": "eadfde47",
   "metadata": {},
   "outputs": [
    {
     "name": "stdout",
     "output_type": "stream",
     "text": [
      "36\n"
     ]
    }
   ],
   "source": [
    "x = 10\n",
    "x2 = x + 2\n",
    "x3 = x2 * 3\n",
    "print(x3)"
   ]
  },
  {
   "cell_type": "code",
   "execution_count": 10,
   "id": "d5591178",
   "metadata": {},
   "outputs": [
    {
     "name": "stdout",
     "output_type": "stream",
     "text": [
      "36\n"
     ]
    }
   ],
   "source": [
    "x = 10\n",
    "x = x + 2\n",
    "x = x * 3\n",
    "print(x)"
   ]
  },
  {
   "cell_type": "markdown",
   "id": "ba1b5e23",
   "metadata": {},
   "source": [
    "Esercizio Scriviamo un programma che chiede in input all'utente una stringa e visualizza i primi 3 caratteri, seguiti da 3 punti di sospensione e quindi gli ultimi 3 caratteri."
   ]
  },
  {
   "cell_type": "code",
   "execution_count": 17,
   "id": "ff6c7e89",
   "metadata": {},
   "outputs": [
    {
     "name": "stdout",
     "output_type": "stream",
     "text": [
      "Indica la tua professione: giannizzero\n",
      "gia...ero\n"
     ]
    }
   ],
   "source": [
    "var = input(\"Indica la tua professione: \")\n",
    "prime_3 = var[:3]\n",
    "ultime_3 = var[-3:]\n",
    "risultato = prime_3 + \"...\" + ultime_3\n",
    "print(risultato)"
   ]
  },
  {
   "cell_type": "markdown",
   "id": "7d9912ec",
   "metadata": {},
   "source": [
    "Esercizio Verificare, per ognuna delle seguenti stringhe, se il numero di caratteri è compreso tra 5 e 8: \n",
    "• Windows \n",
    "• Excel \n",
    "• Powerpoint \n",
    "• Word"
   ]
  },
  {
   "cell_type": "code",
   "execution_count": 26,
   "id": "6b9af6bf",
   "metadata": {
    "scrolled": true
   },
   "outputs": [
    {
     "name": "stdout",
     "output_type": "stream",
     "text": [
      "Non compreso tra 5 e 8\n"
     ]
    }
   ],
   "source": [
    "var = [\"Windows\",\"Excel\",\"Powerpoint\",\"Word\"]\n",
    "for str in var:\n",
    "    lunghezza = len(var)\n",
    "if lunghezza >= 5 and lunghezza <= 8: \n",
    "    print(\"Compreso tra 5 e 8\")\n",
    "else: \n",
    "    print(\"Non compreso tra 5 e 8\")"
   ]
  },
  {
   "cell_type": "markdown",
   "id": "bc074562",
   "metadata": {},
   "source": [
    "Esercizio Abbiamo la seguente lista di codici prodotto: codici = [\"knt-S1\", \"cba-G9\", \"qtr-Z8\"] Per ognuno dei codici, estrarre la parte finale (gli ultimi tre caratteri, quindi trattino incluso) e memorizzarli in una nuova lista."
   ]
  },
  {
   "cell_type": "code",
   "execution_count": 28,
   "id": "a56e2e21",
   "metadata": {},
   "outputs": [
    {
     "name": "stdout",
     "output_type": "stream",
     "text": [
      "['-S1', '-G9', '-Z8']\n"
     ]
    }
   ],
   "source": [
    "codici = [\"knt-S1\", \"cba-G9\", \"qtr-Z8\"]\n",
    "var1 = codici[0]\n",
    "var2 = codici[1]\n",
    "var3 = codici[2]\n",
    "fine_var1 = var1[-3:]\n",
    "fine_var2 = var2[-3:]\n",
    "fine_var3 = var3[-3:]\n",
    "fine_var = [fine_var1, fine_var2, fine_var3]\n",
    "print(fine_var)"
   ]
  },
  {
   "cell_type": "markdown",
   "id": "89ff1d52",
   "metadata": {},
   "source": [
    "Abbiamo un insieme (set) di titoli di azioni \"growth\" (cioè che hanno una crescita dei ricavi maggiore della media):"
   ]
  },
  {
   "cell_type": "code",
   "execution_count": 29,
   "id": "cd522685",
   "metadata": {},
   "outputs": [],
   "source": [
    "growth = {\"Tesla\", \"Shopify\", \"Block\", \"Etsy\", \"MercadoLibre\", \"Netflix\", \"Amazon\", \"Meta Platforms\", \"Salesforce\", \"Alphabet\"}"
   ]
  },
  {
   "cell_type": "markdown",
   "id": "9226a57c",
   "metadata": {},
   "source": [
    "Abbiamo un insieme di titoli \"value\" (cioè titoli che offrono agli investitori un elevato ritorno sull’investimento, garantendo al contempo stabilità e sicurezza):"
   ]
  },
  {
   "cell_type": "code",
   "execution_count": 30,
   "id": "ea657c76",
   "metadata": {},
   "outputs": [],
   "source": [
    "value = {\"Pfizer\", \"Johnson & Johnson\", \"JPMorgan Chase & Co.\", \"Wells Fargo & Co.\", \"Verizon Communications\", \"BP PLC\", \"LyondellBasell Industries\", \"MetLife\", \"Interactive Brokers Group\", \"Intel\"}"
   ]
  },
  {
   "cell_type": "markdown",
   "id": "6555e612",
   "metadata": {},
   "source": [
    "Abbiamo un insieme di titoli di aziende ad alta tecnologia:"
   ]
  },
  {
   "cell_type": "code",
   "execution_count": 31,
   "id": "e221d3cb",
   "metadata": {},
   "outputs": [],
   "source": [
    "tech = {\"Apple\", \"Microsoft\", \"Alphabet\", \"Amazon\", \"NVIDIA\", \"Meta Platforms\", \"Tesla\", \"Alibaba\", \"Salesforce\", \"Advanced Micro Devices\", \"Intel\", \"PayPal\", \"Activision Blizzard\", \"Electronic Arts\", \"The Trade Desk\", \"Zillow Group\", \"Match Group\", \"Yelp\"}"
   ]
  },
  {
   "cell_type": "markdown",
   "id": "c4c6848b",
   "metadata": {},
   "source": [
    "Abbiamo un insieme di titoli di aziende nell'healthcare:"
   ]
  },
  {
   "cell_type": "code",
   "execution_count": 32,
   "id": "d391042f",
   "metadata": {},
   "outputs": [],
   "source": [
    "healthcare = {\"UnitedHealth Group\", \"Johnson & Johnson\", \"Eli Lilly & Co.\", \"Novo Nordisk\", \"Merck & Co.\", \"Roche Holding\", \"Pfizer\", \"Thermo Fisher Scientific\", \"Abbott Laboratories\"}"
   ]
  },
  {
   "cell_type": "markdown",
   "id": "79747019",
   "metadata": {},
   "source": [
    "Un investitore vuole sapere:"
   ]
  },
  {
   "cell_type": "markdown",
   "id": "94b53b7a",
   "metadata": {},
   "source": [
    "se vuole diversificare l'investimento, investendo in aziende growth e value, quali sono le aziende?"
   ]
  },
  {
   "cell_type": "code",
   "execution_count": 33,
   "id": "8f34e23c",
   "metadata": {},
   "outputs": [
    {
     "name": "stdout",
     "output_type": "stream",
     "text": [
      "{'BP PLC', 'Verizon Communications', 'Shopify', 'Interactive Brokers Group', 'JPMorgan Chase & Co.', 'Wells Fargo & Co.', 'Intel', 'Meta Platforms', 'MercadoLibre', 'Etsy', 'Block', 'Tesla', 'Netflix', 'Johnson & Johnson', 'MetLife', 'Alphabet', 'Amazon', 'Salesforce', 'Pfizer', 'LyondellBasell Industries'}\n"
     ]
    }
   ],
   "source": [
    "print(growth|value)"
   ]
  },
  {
   "cell_type": "markdown",
   "id": "9d146bf2",
   "metadata": {},
   "source": [
    "quali sono le aziende tecnologiche growth?"
   ]
  },
  {
   "cell_type": "code",
   "execution_count": 34,
   "id": "76956470",
   "metadata": {},
   "outputs": [
    {
     "name": "stdout",
     "output_type": "stream",
     "text": [
      "{'Tesla', 'Alphabet', 'Meta Platforms', 'Amazon', 'Salesforce'}\n"
     ]
    }
   ],
   "source": [
    "print(growth&tech)"
   ]
  },
  {
   "cell_type": "markdown",
   "id": "b916edab",
   "metadata": {},
   "source": [
    "se vuole investire sia in aziende tecnologiche che value, quali deve considerare?"
   ]
  },
  {
   "cell_type": "code",
   "execution_count": 40,
   "id": "60496bf8",
   "metadata": {},
   "outputs": [
    {
     "name": "stdout",
     "output_type": "stream",
     "text": [
      "{'Intel'}\n"
     ]
    }
   ],
   "source": [
    "print(tech&value)"
   ]
  },
  {
   "cell_type": "markdown",
   "id": "5db8bafb",
   "metadata": {},
   "source": [
    "quali sono i titoli healthcare che non sono value?"
   ]
  },
  {
   "cell_type": "code",
   "execution_count": 37,
   "id": "56d3d20f",
   "metadata": {},
   "outputs": [
    {
     "name": "stdout",
     "output_type": "stream",
     "text": [
      "{'Roche Holding', 'Abbott Laboratories', 'Novo Nordisk', 'Thermo Fisher Scientific', 'UnitedHealth Group', 'Eli Lilly & Co.', 'Merck & Co.'}\n"
     ]
    }
   ],
   "source": [
    "print(healthcare-value)"
   ]
  },
  {
   "cell_type": "markdown",
   "id": "edc7868a",
   "metadata": {},
   "source": [
    "ci sono aziende sia tech che healthcare?"
   ]
  },
  {
   "cell_type": "code",
   "execution_count": 38,
   "id": "6b905bee",
   "metadata": {},
   "outputs": [
    {
     "name": "stdout",
     "output_type": "stream",
     "text": [
      "set()\n"
     ]
    }
   ],
   "source": [
    "print(tech&healthcare)"
   ]
  },
  {
   "cell_type": "markdown",
   "id": "f49888ff",
   "metadata": {},
   "source": [
    "in quali deve investire se vuole azioni tech ma solo se siano growth o value?"
   ]
  },
  {
   "cell_type": "code",
   "execution_count": 44,
   "id": "e5530a9d",
   "metadata": {},
   "outputs": [
    {
     "name": "stdout",
     "output_type": "stream",
     "text": [
      "{'Intel', 'Alphabet', 'Meta Platforms', 'Amazon', 'Salesforce', 'Tesla'}\n"
     ]
    }
   ],
   "source": [
    "tech_growth = tech&growth\n",
    "tech_value = tech&value\n",
    "print(tech_growth|tech_value)"
   ]
  },
  {
   "cell_type": "code",
   "execution_count": null,
   "id": "2213eba9",
   "metadata": {},
   "outputs": [],
   "source": []
  }
 ],
 "metadata": {
  "kernelspec": {
   "display_name": "Python 3 (ipykernel)",
   "language": "python",
   "name": "python3"
  },
  "language_info": {
   "codemirror_mode": {
    "name": "ipython",
    "version": 3
   },
   "file_extension": ".py",
   "mimetype": "text/x-python",
   "name": "python",
   "nbconvert_exporter": "python",
   "pygments_lexer": "ipython3",
   "version": "3.11.5"
  }
 },
 "nbformat": 4,
 "nbformat_minor": 5
}
